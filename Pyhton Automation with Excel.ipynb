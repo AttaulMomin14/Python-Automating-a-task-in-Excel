{
 "cells": [
  {
   "cell_type": "code",
   "execution_count": 1,
   "id": "ddbe621c",
   "metadata": {},
   "outputs": [
    {
     "name": "stdout",
     "output_type": "stream",
     "text": [
      "^C\n"
     ]
    }
   ],
   "source": [
    "!pip install pandas openpyxl\n",
    "!pip install pyunpack\n",
    "!pip install patool"
   ]
  },
  {
   "cell_type": "code",
   "execution_count": 11,
   "id": "2ace97f8",
   "metadata": {
    "scrolled": true
   },
   "outputs": [
    {
     "name": "stdout",
     "output_type": "stream",
     "text": [
      "C:\\Users\\Momin\\anaconda3\\python.exe\n"
     ]
    }
   ],
   "source": [
    "import sys\n",
    "import os\n",
    "from pyunpack import Archive"
   ]
  },
  {
   "cell_type": "code",
   "execution_count": 70,
   "id": "ef76e050",
   "metadata": {},
   "outputs": [],
   "source": [
    "# Path to the Excel file and the folder containing text files\n",
    "excel_file_path = r'C:\\Users\\Momin\\Downloads\\Upwork Jobs\\WQED Customer Service\\Aug1-Nov23.xlsx'  # Update with the actual path\n",
    "text_files_folder = r'C:\\Users\\Momin\\Downloads\\Upwork Jobs\\WQED Customer Service\\Text Files'   # Update with the actual path\n",
    "\n",
    "# Read the Excel file\n",
    "df = pd.read_excel(excel_file_path)\n",
    "\n",
    "# List all text files in the folder\n",
    "text_files = os.listdir(text_files_folder)\n",
    "\n",
    "# Function to find matching text file for a case number\n",
    "def find_matching_file(case_number, files):\n",
    "    for file in files:\n",
    "        file_case_number = file.split('_')[0]  # Extract case number from file name\n",
    "        if str(case_number) == file_case_number:\n",
    "            return file\n",
    "    return None\n",
    "\n",
    "# Iterate over each case number, find the matching text file, and read its contents\n",
    "for index in range(1, len(df)):\n",
    "    case_number = df.at[index, 'CASE']  # Assuming 'B' is the column with case numbers\n",
    "    matching_file = find_matching_file(case_number, text_files)\n",
    "    if matching_file:\n",
    "        with open(os.path.join(text_files_folder, matching_file), 'r') as file:\n",
    "            content = file.read()\n",
    "            df.at[index, 'TRANSCRIPTS'] = content  # Assuming 'E' is the column to write contents\n",
    "\n",
    "# Save the modified DataFrame back to the Excel file\n",
    "df.to_excel(excel_file_path, index=False)"
   ]
  }
 ],
 "metadata": {
  "kernelspec": {
   "display_name": "Python 3 (ipykernel)",
   "language": "python",
   "name": "python3"
  },
  "language_info": {
   "codemirror_mode": {
    "name": "ipython",
    "version": 3
   },
   "file_extension": ".py",
   "mimetype": "text/x-python",
   "name": "python",
   "nbconvert_exporter": "python",
   "pygments_lexer": "ipython3",
   "version": "3.11.7"
  }
 },
 "nbformat": 4,
 "nbformat_minor": 5
}
